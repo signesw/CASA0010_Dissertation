{
 "cells": [
  {
   "cell_type": "markdown",
   "id": "494e7df0",
   "metadata": {},
   "source": [
    "## Data Matching - VOA\n",
    "\n",
    "This notebook carries out the data matching process necessary to geo-reference Valuation Office Agency (VOA) Non-domestic rating data with building polygons. Refer to Section 3.5 of the Dissertation document to review the methodology carried out below. "
   ]
  },
  {
   "cell_type": "code",
   "execution_count": 1,
   "id": "a4751d62",
   "metadata": {},
   "outputs": [],
   "source": [
    "import geopandas as gpd\n",
    "import pandas as pd\n",
    "import numpy as np\n",
    "import glob\n",
    "import matplotlib \n",
    "import re\n",
    "%matplotlib inline"
   ]
  },
  {
   "cell_type": "code",
   "execution_count": 2,
   "id": "da223c82",
   "metadata": {},
   "outputs": [],
   "source": [
    "# Read geojson file of buildings \n",
    "buildings= gpd.read_file(\"Data/BuildingData/FinalBuildings.geojson\")"
   ]
  },
  {
   "cell_type": "code",
   "execution_count": null,
   "id": "0f3e06db",
   "metadata": {},
   "outputs": [],
   "source": [
    "cols=['record_type',\n",
    "      'ref',\n",
    "      'UARN',\n",
    "      'billing_authority_code',\n",
    "      'firm_name',\n",
    "      'number_name',\n",
    "      'subst3',\n",
    "      'subst2',\n",
    "      'subst1',\n",
    "      'street',\n",
    "      'town',\n",
    "      'postal_district',\n",
    "      'county',\n",
    "      'postcode',\n",
    "      'scheme_reference',\n",
    "      'primary_description',\n",
    "      'totalarea',\n",
    "      'subtotal',\n",
    "      'totalvalue',\n",
    "      'adoptedrv',\n",
    "      'listyear',\n",
    "      'baname',\n",
    "      'baref',\n",
    "      'voref',\n",
    "      'from_date',\n",
    "      'to_date',\n",
    "      'SCAT_code',\n",
    "      'uom',\n",
    "      'unadjusted_price']"
   ]
  },
  {
   "cell_type": "markdown",
   "id": "e91add5b",
   "metadata": {},
   "source": [
    "### !!! Reading VOA data\n",
    "\n",
    "VOA data was downloaded from here: https://voaratinglists.blob.core.windows.net/downloads/uk-englandwales-ndr-2017-summaryvaluations-compiled-epoch-0026-baseline-csv.zip\n",
    "\n",
    "As this datafile is very large, it has not been included in the GitHub repository"
   ]
  },
  {
   "cell_type": "code",
   "execution_count": 3,
   "id": "d531260c",
   "metadata": {
    "scrolled": true
   },
   "outputs": [
    {
     "name": "stderr",
     "output_type": "stream",
     "text": [
      "C:\\Users\\signe\\anaconda3\\envs\\dissertation\\lib\\site-packages\\IPython\\core\\interactiveshell.py:3170: DtypeWarning: Columns (0,6,7,10,12,22,25) have mixed types.Specify dtype option on import or set low_memory=False.\n",
      "  interactivity=interactivity, compiler=compiler, result=result)\n"
     ]
    }
   ],
   "source": [
    "# Read VOA ratings - this was obtained from the Valuation Office Agency https://voaratinglists.blob.core.windows.net/html/rlidata.htm\n",
    "voa= pd.read_csv('Data/BuildingData/voa/VOA_summary_valuations.csv',sep='*')"
   ]
  },
  {
   "cell_type": "code",
   "execution_count": 4,
   "id": "0854e7b0",
   "metadata": {},
   "outputs": [
    {
     "data": {
      "text/html": [
       "<div>\n",
       "<style scoped>\n",
       "    .dataframe tbody tr th:only-of-type {\n",
       "        vertical-align: middle;\n",
       "    }\n",
       "\n",
       "    .dataframe tbody tr th {\n",
       "        vertical-align: top;\n",
       "    }\n",
       "\n",
       "    .dataframe thead th {\n",
       "        text-align: right;\n",
       "    }\n",
       "</style>\n",
       "<table border=\"1\" class=\"dataframe\">\n",
       "  <thead>\n",
       "    <tr style=\"text-align: right;\">\n",
       "      <th></th>\n",
       "      <th>01</th>\n",
       "      <th>21045502000</th>\n",
       "      <th>12314845000</th>\n",
       "      <th>0335</th>\n",
       "      <th>The Occupier</th>\n",
       "      <th>SUITE 4 3RD FLR AT EASTHAMPSTEAD HOUSE</th>\n",
       "      <th>Unnamed: 6</th>\n",
       "      <th>Unnamed: 7</th>\n",
       "      <th>Unnamed: 8</th>\n",
       "      <th>TOWN SQUARE</th>\n",
       "      <th>...</th>\n",
       "      <th>8400</th>\n",
       "      <th>2017</th>\n",
       "      <th>Bracknell Forest</th>\n",
       "      <th>00277000103007/39T</th>\n",
       "      <th>33281154281</th>\n",
       "      <th>16-SEP-2019</th>\n",
       "      <th>Unnamed: 25</th>\n",
       "      <th>203</th>\n",
       "      <th>NIA</th>\n",
       "      <th>140.00</th>\n",
       "    </tr>\n",
       "  </thead>\n",
       "  <tbody>\n",
       "    <tr>\n",
       "      <th>0</th>\n",
       "      <td>2</td>\n",
       "      <td>1</td>\n",
       "      <td>Third</td>\n",
       "      <td>Office</td>\n",
       "      <td>45.00</td>\n",
       "      <td>187.49</td>\n",
       "      <td>8437.0</td>\n",
       "      <td>NaN</td>\n",
       "      <td>NaN</td>\n",
       "      <td>NaN</td>\n",
       "      <td>...</td>\n",
       "      <td>NaN</td>\n",
       "      <td>NaN</td>\n",
       "      <td>NaN</td>\n",
       "      <td>NaN</td>\n",
       "      <td>NaN</td>\n",
       "      <td>NaN</td>\n",
       "      <td>NaN</td>\n",
       "      <td>NaN</td>\n",
       "      <td>NaN</td>\n",
       "      <td>NaN</td>\n",
       "    </tr>\n",
       "    <tr>\n",
       "      <th>1</th>\n",
       "      <td>1</td>\n",
       "      <td>21045503000</td>\n",
       "      <td>12314846000</td>\n",
       "      <td>0335</td>\n",
       "      <td>The Occupier</td>\n",
       "      <td>SUITE 5 3RD FLR AT EASTHAMPSTEAD HOUSE</td>\n",
       "      <td>NaN</td>\n",
       "      <td>NaN</td>\n",
       "      <td>NaN</td>\n",
       "      <td>TOWN SQUARE</td>\n",
       "      <td>...</td>\n",
       "      <td>12000.0</td>\n",
       "      <td>2017.0</td>\n",
       "      <td>Bracknell Forest</td>\n",
       "      <td>00277000103007/40T</td>\n",
       "      <td>3.328115e+10</td>\n",
       "      <td>16-SEP-2019</td>\n",
       "      <td>NaN</td>\n",
       "      <td>203.0</td>\n",
       "      <td>NIA</td>\n",
       "      <td>130.0</td>\n",
       "    </tr>\n",
       "    <tr>\n",
       "      <th>2</th>\n",
       "      <td>2</td>\n",
       "      <td>1</td>\n",
       "      <td>Third</td>\n",
       "      <td>Office</td>\n",
       "      <td>70.00</td>\n",
       "      <td>174.10</td>\n",
       "      <td>12187.0</td>\n",
       "      <td>NaN</td>\n",
       "      <td>NaN</td>\n",
       "      <td>NaN</td>\n",
       "      <td>...</td>\n",
       "      <td>NaN</td>\n",
       "      <td>NaN</td>\n",
       "      <td>NaN</td>\n",
       "      <td>NaN</td>\n",
       "      <td>NaN</td>\n",
       "      <td>NaN</td>\n",
       "      <td>NaN</td>\n",
       "      <td>NaN</td>\n",
       "      <td>NaN</td>\n",
       "      <td>NaN</td>\n",
       "    </tr>\n",
       "    <tr>\n",
       "      <th>3</th>\n",
       "      <td>1</td>\n",
       "      <td>21045618000</td>\n",
       "      <td>12314847000</td>\n",
       "      <td>0335</td>\n",
       "      <td>The Occupier</td>\n",
       "      <td>SUITE 6 3RD FLR AT EASTHAMPSTEAD HOUSE</td>\n",
       "      <td>NaN</td>\n",
       "      <td>NaN</td>\n",
       "      <td>NaN</td>\n",
       "      <td>TOWN SQUARE</td>\n",
       "      <td>...</td>\n",
       "      <td>3900.0</td>\n",
       "      <td>2017.0</td>\n",
       "      <td>Bracknell Forest</td>\n",
       "      <td>00277000103007/41T</td>\n",
       "      <td>3.328115e+10</td>\n",
       "      <td>16-SEP-2019</td>\n",
       "      <td>NaN</td>\n",
       "      <td>203.0</td>\n",
       "      <td>NIA</td>\n",
       "      <td>140.0</td>\n",
       "    </tr>\n",
       "    <tr>\n",
       "      <th>4</th>\n",
       "      <td>2</td>\n",
       "      <td>1</td>\n",
       "      <td>Third</td>\n",
       "      <td>Office</td>\n",
       "      <td>21.00</td>\n",
       "      <td>187.49</td>\n",
       "      <td>3937.0</td>\n",
       "      <td>NaN</td>\n",
       "      <td>NaN</td>\n",
       "      <td>NaN</td>\n",
       "      <td>...</td>\n",
       "      <td>NaN</td>\n",
       "      <td>NaN</td>\n",
       "      <td>NaN</td>\n",
       "      <td>NaN</td>\n",
       "      <td>NaN</td>\n",
       "      <td>NaN</td>\n",
       "      <td>NaN</td>\n",
       "      <td>NaN</td>\n",
       "      <td>NaN</td>\n",
       "      <td>NaN</td>\n",
       "    </tr>\n",
       "  </tbody>\n",
       "</table>\n",
       "<p>5 rows × 29 columns</p>\n",
       "</div>"
      ],
      "text/plain": [
       "  01  21045502000  12314845000    0335  The Occupier  \\\n",
       "0  2            1        Third  Office         45.00   \n",
       "1  1  21045503000  12314846000    0335  The Occupier   \n",
       "2  2            1        Third  Office         70.00   \n",
       "3  1  21045618000  12314847000    0335  The Occupier   \n",
       "4  2            1        Third  Office         21.00   \n",
       "\n",
       "   SUITE 4 3RD FLR AT EASTHAMPSTEAD HOUSE Unnamed: 6 Unnamed: 7 Unnamed: 8  \\\n",
       "0                                  187.49     8437.0        NaN        NaN   \n",
       "1  SUITE 5 3RD FLR AT EASTHAMPSTEAD HOUSE        NaN        NaN        NaN   \n",
       "2                                  174.10    12187.0        NaN        NaN   \n",
       "3  SUITE 6 3RD FLR AT EASTHAMPSTEAD HOUSE        NaN        NaN        NaN   \n",
       "4                                  187.49     3937.0        NaN        NaN   \n",
       "\n",
       "   TOWN SQUARE  ...     8400    2017  Bracknell Forest  00277000103007/39T  \\\n",
       "0          NaN  ...      NaN     NaN               NaN                 NaN   \n",
       "1  TOWN SQUARE  ...  12000.0  2017.0  Bracknell Forest  00277000103007/40T   \n",
       "2          NaN  ...      NaN     NaN               NaN                 NaN   \n",
       "3  TOWN SQUARE  ...   3900.0  2017.0  Bracknell Forest  00277000103007/41T   \n",
       "4          NaN  ...      NaN     NaN               NaN                 NaN   \n",
       "\n",
       "    33281154281  16-SEP-2019  Unnamed: 25    203  NIA  140.00  \n",
       "0           NaN          NaN          NaN    NaN  NaN     NaN  \n",
       "1  3.328115e+10  16-SEP-2019          NaN  203.0  NIA   130.0  \n",
       "2           NaN          NaN          NaN    NaN  NaN     NaN  \n",
       "3  3.328115e+10  16-SEP-2019          NaN  203.0  NIA   140.0  \n",
       "4           NaN          NaN          NaN    NaN  NaN     NaN  \n",
       "\n",
       "[5 rows x 29 columns]"
      ]
     },
     "execution_count": 4,
     "metadata": {},
     "output_type": "execute_result"
    }
   ],
   "source": [
    "voa.head()"
   ]
  },
  {
   "cell_type": "code",
   "execution_count": 5,
   "id": "0380aa9a",
   "metadata": {},
   "outputs": [],
   "source": [
    "#rename columns\n",
    "def rename_voa(df):\n",
    "    # rename column headers\n",
    "    d = {'old': df.columns}\n",
    "    df_dict = pd.DataFrame(data=d)\n",
    "    df_dict.set_index('old', inplace=True)\n",
    "\n",
    "    df_dict['new']=['record_type',\n",
    "      'ref',\n",
    "      'UARN',\n",
    "      'billing_authority_code',\n",
    "      'firm_name',\n",
    "      'number_name',\n",
    "      'subst3',\n",
    "      'subst2',\n",
    "      'subst1',\n",
    "      'street',\n",
    "      'town',\n",
    "      'postal_district',\n",
    "      'county',\n",
    "      'postcode',\n",
    "      'scheme_reference',\n",
    "      'primary_description',\n",
    "      'totalarea',\n",
    "      'subtotal',\n",
    "      'totalvalue',\n",
    "      'adoptedrv',\n",
    "      'listyear',\n",
    "      'baname',\n",
    "      'baref',\n",
    "      'voref',\n",
    "      'from_date',\n",
    "      'to_date',\n",
    "      'SCAT_code',\n",
    "      'uom',\n",
    "      'unadjusted_price']\n",
    "\n",
    "    # convert dataframe to dictionary\n",
    "    col_dict = df_dict['new'].to_dict()\n",
    "    df.rename(columns = col_dict, inplace=True)\n",
    "    \n",
    "    return df, df_dict"
   ]
  },
  {
   "cell_type": "code",
   "execution_count": 6,
   "id": "eaca0df1",
   "metadata": {},
   "outputs": [],
   "source": [
    "# rename column headers using function defined above\n",
    "df, df_dict = rename_voa(voa) "
   ]
  },
  {
   "cell_type": "code",
   "execution_count": 7,
   "id": "ce0ccaeb",
   "metadata": {},
   "outputs": [],
   "source": [
    "#separate out the two different record types - we only need first\n",
    "voa=df[df.record_type == 1]"
   ]
  },
  {
   "cell_type": "code",
   "execution_count": 8,
   "id": "76039aa4",
   "metadata": {},
   "outputs": [],
   "source": [
    "# drop columns that aren't relevant\n",
    "voa=voa.drop(columns=['record_type',\n",
    "      'scheme_reference',\n",
    "      'subtotal',\n",
    "      'totalvalue',\n",
    "      'adoptedrv',\n",
    "      'listyear',\n",
    "      'baname',\n",
    "      'baref',\n",
    "      'voref',\n",
    "      'from_date',\n",
    "      'to_date',\n",
    "      'uom',\n",
    "      'unadjusted_price'])\n"
   ]
  },
  {
   "cell_type": "code",
   "execution_count": 10,
   "id": "90c92c9a",
   "metadata": {},
   "outputs": [],
   "source": [
    "#select only records in westminster\n",
    "voa_westminster=voa[voa.billing_authority_code == '5990']"
   ]
  },
  {
   "cell_type": "code",
   "execution_count": 11,
   "id": "f2b6ddaf",
   "metadata": {},
   "outputs": [],
   "source": [
    "#replace nans with empty space\n",
    "voa_westminster = voa_westminster.replace(np.nan, '', regex=True)\n"
   ]
  },
  {
   "cell_type": "code",
   "execution_count": 12,
   "id": "ac38110b",
   "metadata": {},
   "outputs": [],
   "source": [
    "#join addresses\n",
    "voa_westminster['LINE_ADDRESS'] = voa_westminster[['number_name', 'subst1', 'subst2','subst3','street']].agg(' '.join, axis=1)\n",
    "voa_westminster['LINE_ADDRESS']=voa_westminster['LINE_ADDRESS'].str.strip()"
   ]
  },
  {
   "cell_type": "code",
   "execution_count": 14,
   "id": "0ca68639",
   "metadata": {},
   "outputs": [
    {
     "name": "stderr",
     "output_type": "stream",
     "text": [
      "C:\\Users\\signe\\anaconda3\\envs\\dissertation\\lib\\site-packages\\IPython\\core\\interactiveshell.py:3170: DtypeWarning: Columns (13,21) have mixed types.Specify dtype option on import or set low_memory=False.\n",
      "  interactivity=interactivity, compiler=compiler, result=result)\n",
      "C:\\Users\\signe\\anaconda3\\envs\\dissertation\\lib\\site-packages\\IPython\\core\\interactiveshell.py:3170: DtypeWarning: Columns (13,19) have mixed types.Specify dtype option on import or set low_memory=False.\n",
      "  interactivity=interactivity, compiler=compiler, result=result)\n",
      "C:\\Users\\signe\\anaconda3\\envs\\dissertation\\lib\\site-packages\\IPython\\core\\interactiveshell.py:3170: DtypeWarning: Columns (13) have mixed types.Specify dtype option on import or set low_memory=False.\n",
      "  interactivity=interactivity, compiler=compiler, result=result)\n"
     ]
    }
   ],
   "source": [
    "#now read the AddressBase files \n",
    "path = \"./Data/AddressBase\" # use your path\n",
    "all_files = glob.glob(path + \"/*.csv\")\n",
    "\n",
    "li = []\n",
    "\n",
    "for filename in all_files:\n",
    "    df = pd.read_csv(filename,  index_col=None, header=0)\n",
    "    li.append(df)\n",
    "\n",
    "\n",
    "AddressBase = pd.concat(li, axis=0, ignore_index=True)"
   ]
  },
  {
   "cell_type": "code",
   "execution_count": 15,
   "id": "cb5e1c8c",
   "metadata": {},
   "outputs": [],
   "source": [
    "#Simplify with what we want \n",
    "AddressBase=AddressBase[[\"UPRN\",\"TOID\",\"SINGLE_LINE_ADDRESS\",\"SUB_BUILDING\",\"BUILDING_NAME\",\"BUILDING_NUMBER\",\"STREET_NAME\",\"POSTCODE\"]]"
   ]
  },
  {
   "cell_type": "code",
   "execution_count": 16,
   "id": "a9ae7342",
   "metadata": {},
   "outputs": [],
   "source": [
    "#remove commas \n",
    "AddressBase[\"SINGLE_LINE_ADDRESS\"]= AddressBase[\"SINGLE_LINE_ADDRESS\"].str.replace(\",\", \"\")"
   ]
  },
  {
   "cell_type": "code",
   "execution_count": 17,
   "id": "43376a5c",
   "metadata": {},
   "outputs": [],
   "source": [
    "#Now we want to match postcodes \n",
    "VOA_UPRN= pd.merge(voa_westminster,AddressBase,how='inner', left_on='postcode', right_on='POSTCODE')"
   ]
  },
  {
   "cell_type": "code",
   "execution_count": 18,
   "id": "2034b1de",
   "metadata": {},
   "outputs": [],
   "source": [
    "#replace double spaces\n",
    "VOA_UPRN['SINGLE_LINE_ADDRESS'] = VOA_UPRN['SINGLE_LINE_ADDRESS'].str.replace('\\s+', ' ', regex=True)\n",
    "VOA_UPRN['LINE_ADDRESS'] = VOA_UPRN['LINE_ADDRESS'].str.replace('\\s+', ' ', regex=True)\n",
    "VOA_UPRN['LINE_ADDRESS'] =VOA_UPRN['LINE_ADDRESS'].str.replace('&','AND')"
   ]
  },
  {
   "cell_type": "code",
   "execution_count": 19,
   "id": "01c65b8e",
   "metadata": {},
   "outputs": [],
   "source": [
    "#Define words that need to be replaced\n",
    "repl = {'1ST' : 'FIRST',\n",
    "       '2ND':'SECOND',\n",
    "       '3RD':'THIRD',\n",
    "       '4TH':'FOURTH',\n",
    "        '5TH':'FIFTH',\n",
    "        '6TH':'SIXTH',\n",
    "        '7TH':'SEVENTH',\n",
    "        '8TH':'EIGHTH',\n",
    "        '9TH':'NINTH',\n",
    "       'FLR':'FLOOR',\n",
    "       'FLRS':'FLOOR',\n",
    "        'HSE':'HOUSE',\n",
    "        'GND':'GROUND',\n",
    "       'GRND':'GROUND',\n",
    "       'GD':'GROUND',\n",
    "       'GRD':'GROUND',\n",
    "       'MEZZ':'MEZZANINE',\n",
    "       'BST':'BASEMENT'}\n",
    "\n",
    "repl = {rf'\\b{k}\\b': v for k, v in repl.items()}\n",
    "\n",
    "VOA_UPRN['LINE_ADDRESS'] =VOA_UPRN['LINE_ADDRESS'].replace(repl, regex=True)"
   ]
  },
  {
   "cell_type": "code",
   "execution_count": 20,
   "id": "5552769f",
   "metadata": {},
   "outputs": [],
   "source": [
    "VOA_UPRN[\"VOA_address\"]=VOA_UPRN[\"LINE_ADDRESS\"].str.split(\" \")\n",
    "VOA_UPRN[\"UPRN_address\"]=VOA_UPRN[\"SINGLE_LINE_ADDRESS\"].str.split(\" \")\n",
    "VOA_UPRN['voa_number']=VOA_UPRN[\"number_name\"].str.split(\" \").str[-1]"
   ]
  },
  {
   "cell_type": "code",
   "execution_count": 21,
   "id": "865a795d",
   "metadata": {},
   "outputs": [],
   "source": [
    "#remove the last 3 elements in the single line address\n",
    "VOA_UPRN['UPRN_address'] = VOA_UPRN['UPRN_address'].str[:-3]"
   ]
  },
  {
   "cell_type": "code",
   "execution_count": 25,
   "id": "5f99f8c0",
   "metadata": {},
   "outputs": [],
   "source": [
    "#calculate number of common words\n",
    "row=VOA_UPRN.shape[0]\n",
    "sets=[]\n",
    "\n",
    "for i in range (0,row):\n",
    "    test=set(VOA_UPRN['VOA_address'].iloc[i])&set(VOA_UPRN['UPRN_address'].iloc[i])\n",
    "    sets.append(test)"
   ]
  },
  {
   "cell_type": "code",
   "execution_count": 26,
   "id": "299ae516",
   "metadata": {},
   "outputs": [],
   "source": [
    "VOA_UPRN[\"sets\"]=sets\n"
   ]
  },
  {
   "cell_type": "code",
   "execution_count": 27,
   "id": "878b5631",
   "metadata": {},
   "outputs": [],
   "source": [
    "VOA_UPRN['coefficient']=VOA_UPRN['sets'].str.len()/VOA_UPRN['UPRN_address'].str.len()"
   ]
  },
  {
   "cell_type": "code",
   "execution_count": 28,
   "id": "fb1c1827",
   "metadata": {},
   "outputs": [],
   "source": [
    "VOA_UPRN['coefficient2']=VOA_UPRN['sets'].str.len()/VOA_UPRN['VOA_address'].str.len()"
   ]
  },
  {
   "cell_type": "code",
   "execution_count": 29,
   "id": "0f4b3f16",
   "metadata": {},
   "outputs": [],
   "source": [
    "#Group by and get the maximum coefficient for each VOA rating\n",
    "Group= VOA_UPRN.groupby(['ref'], sort=False)['coefficient'].max()\n",
    "\n",
    "#Make a dataframe\n",
    "Group=Group.to_frame().reset_index()"
   ]
  },
  {
   "cell_type": "code",
   "execution_count": 30,
   "id": "9a1c635e",
   "metadata": {},
   "outputs": [],
   "source": [
    "idx = VOA_UPRN.groupby(['ref'])['coefficient'].transform(max) == VOA_UPRN['coefficient']\n",
    "\n",
    "Group=VOA_UPRN[idx]"
   ]
  },
  {
   "cell_type": "code",
   "execution_count": 31,
   "id": "c61de09d",
   "metadata": {},
   "outputs": [],
   "source": [
    "#get the ones that match street numbers\n",
    "Number_match=Group[Group.voa_number == Group.BUILDING_NUMBER]"
   ]
  },
  {
   "cell_type": "code",
   "execution_count": 32,
   "id": "8c8cf363",
   "metadata": {},
   "outputs": [],
   "source": [
    "idx = Number_match.groupby(['UPRN'])['coefficient'].transform(max) == Number_match['coefficient']\n",
    "\n",
    "test=Number_match[idx]\n"
   ]
  },
  {
   "cell_type": "code",
   "execution_count": 33,
   "id": "9e9c46bc",
   "metadata": {},
   "outputs": [
    {
     "name": "stderr",
     "output_type": "stream",
     "text": [
      "C:\\Users\\signe\\anaconda3\\envs\\dissertation\\lib\\site-packages\\ipykernel_launcher.py:1: SettingWithCopyWarning: \n",
      "A value is trying to be set on a copy of a slice from a DataFrame.\n",
      "Try using .loc[row_indexer,col_indexer] = value instead\n",
      "\n",
      "See the caveats in the documentation: https://pandas.pydata.org/pandas-docs/stable/user_guide/indexing.html#returning-a-view-versus-a-copy\n",
      "  \"\"\"Entry point for launching an IPython kernel.\n"
     ]
    }
   ],
   "source": [
    "test['length']=test['sets'].str.len()"
   ]
  },
  {
   "cell_type": "code",
   "execution_count": 34,
   "id": "3f844ba3",
   "metadata": {},
   "outputs": [],
   "source": [
    "idx = test.groupby(['UPRN'])['length'].transform(max) == test['length']\n",
    "\n",
    "test=test[idx]\n",
    "\n",
    "id2=test.groupby(['ref'])['length'].transform(max) == test['length']\n",
    "\n",
    "test=test[id2]\n"
   ]
  },
  {
   "cell_type": "code",
   "execution_count": 35,
   "id": "18a4340f",
   "metadata": {},
   "outputs": [],
   "source": [
    "final_voa_westminster = test"
   ]
  },
  {
   "cell_type": "code",
   "execution_count": 37,
   "id": "c18b8295",
   "metadata": {},
   "outputs": [],
   "source": [
    "#merge with geometry data\n",
    "#merge with original certificate data\n",
    "voa_matched_final=pd.merge(buildings,final_voa_westminster,how='inner', left_on='fid',right_on='TOID')"
   ]
  },
  {
   "cell_type": "code",
   "execution_count": 38,
   "id": "dc130773",
   "metadata": {},
   "outputs": [],
   "source": [
    "#get building use categories -- Obtained from https://www.gov.uk/government/uploads/system/uploads/attachment_data/file/449629/Special_category__primary_description__property_types_and_sector_mappings.xls\n",
    "scat_codes=pd.read_csv('Data/BuildingData/SCAT_Codes.csv')"
   ]
  },
  {
   "cell_type": "code",
   "execution_count": 58,
   "id": "7fd89dd0",
   "metadata": {},
   "outputs": [
    {
     "data": {
      "text/html": [
       "<div>\n",
       "<style scoped>\n",
       "    .dataframe tbody tr th:only-of-type {\n",
       "        vertical-align: middle;\n",
       "    }\n",
       "\n",
       "    .dataframe tbody tr th {\n",
       "        vertical-align: top;\n",
       "    }\n",
       "\n",
       "    .dataframe thead th {\n",
       "        text-align: right;\n",
       "    }\n",
       "</style>\n",
       "<table border=\"1\" class=\"dataframe\">\n",
       "  <thead>\n",
       "    <tr style=\"text-align: right;\">\n",
       "      <th></th>\n",
       "      <th>SCat</th>\n",
       "      <th>SCat_Suffix</th>\n",
       "      <th>SCat_Desc</th>\n",
       "      <th>Primary</th>\n",
       "      <th>Primary_Desc</th>\n",
       "      <th>Broad Property 1</th>\n",
       "      <th>Detailed Property 1</th>\n",
       "      <th>Broad Property 2</th>\n",
       "      <th>Sector</th>\n",
       "      <th>Sub-sector</th>\n",
       "    </tr>\n",
       "  </thead>\n",
       "  <tbody>\n",
       "    <tr>\n",
       "      <th>0</th>\n",
       "      <td>3</td>\n",
       "      <td>G</td>\n",
       "      <td>Advertising Right</td>\n",
       "      <td>CA</td>\n",
       "      <td>Advertising Right &amp; Premises</td>\n",
       "      <td>Commercial</td>\n",
       "      <td>Advertising rights</td>\n",
       "      <td>Other properties</td>\n",
       "      <td>Other</td>\n",
       "      <td>OTHER</td>\n",
       "    </tr>\n",
       "    <tr>\n",
       "      <th>1</th>\n",
       "      <td>3</td>\n",
       "      <td>G</td>\n",
       "      <td>Advertising Right</td>\n",
       "      <td>CA1</td>\n",
       "      <td>Advertising Station &amp; Premises</td>\n",
       "      <td>Commercial</td>\n",
       "      <td>Advertising rights</td>\n",
       "      <td>Other properties</td>\n",
       "      <td>Other</td>\n",
       "      <td>OTHER</td>\n",
       "    </tr>\n",
       "    <tr>\n",
       "      <th>2</th>\n",
       "      <td>18</td>\n",
       "      <td>G</td>\n",
       "      <td>ATMs</td>\n",
       "      <td>CX</td>\n",
       "      <td>Commercial (Unclassified)</td>\n",
       "      <td>Commercial</td>\n",
       "      <td>Other commercial</td>\n",
       "      <td>Other properties</td>\n",
       "      <td>Other</td>\n",
       "      <td>OTHER - RETAIL</td>\n",
       "    </tr>\n",
       "    <tr>\n",
       "      <th>3</th>\n",
       "      <td>19</td>\n",
       "      <td>G</td>\n",
       "      <td>Auction Rooms</td>\n",
       "      <td>CX</td>\n",
       "      <td>Commercial (Unclassified)</td>\n",
       "      <td>Commercial</td>\n",
       "      <td>Other commercial</td>\n",
       "      <td>Other properties</td>\n",
       "      <td>Other</td>\n",
       "      <td>OTHER - RETAIL</td>\n",
       "    </tr>\n",
       "    <tr>\n",
       "      <th>4</th>\n",
       "      <td>21</td>\n",
       "      <td>G</td>\n",
       "      <td>Banks/Insurance/Building Society Offices &amp; Oth...</td>\n",
       "      <td>CO</td>\n",
       "      <td>Offices &amp; Premises</td>\n",
       "      <td>Commercial</td>\n",
       "      <td>Offices</td>\n",
       "      <td>Offices</td>\n",
       "      <td>Retail</td>\n",
       "      <td>RETAIL - FINANCIAL &amp; PROFESSIONAL SERVICES</td>\n",
       "    </tr>\n",
       "  </tbody>\n",
       "</table>\n",
       "</div>"
      ],
      "text/plain": [
       "   SCat SCat_Suffix                                          SCat_Desc  \\\n",
       "0     3           G                                  Advertising Right   \n",
       "1     3           G                                  Advertising Right   \n",
       "2    18           G                                              ATMs    \n",
       "3    19           G                                      Auction Rooms   \n",
       "4    21           G  Banks/Insurance/Building Society Offices & Oth...   \n",
       "\n",
       "  Primary                    Primary_Desc Broad Property 1  \\\n",
       "0      CA    Advertising Right & Premises       Commercial   \n",
       "1     CA1  Advertising Station & Premises       Commercial   \n",
       "2      CX       Commercial (Unclassified)       Commercial   \n",
       "3      CX       Commercial (Unclassified)       Commercial   \n",
       "4      CO              Offices & Premises       Commercial   \n",
       "\n",
       "  Detailed Property 1  Broad Property 2  Sector  \\\n",
       "0  Advertising rights  Other properties   Other   \n",
       "1  Advertising rights  Other properties   Other   \n",
       "2    Other commercial  Other properties   Other   \n",
       "3    Other commercial  Other properties   Other   \n",
       "4             Offices           Offices  Retail   \n",
       "\n",
       "                                   Sub-sector  \n",
       "0                                       OTHER  \n",
       "1                                       OTHER  \n",
       "2                              OTHER - RETAIL  \n",
       "3                              OTHER - RETAIL  \n",
       "4  RETAIL - FINANCIAL & PROFESSIONAL SERVICES  "
      ]
     },
     "execution_count": 58,
     "metadata": {},
     "output_type": "execute_result"
    }
   ],
   "source": [
    "scat_codes.head()"
   ]
  },
  {
   "cell_type": "code",
   "execution_count": 39,
   "id": "0858a7e1",
   "metadata": {},
   "outputs": [],
   "source": [
    "#select columns we want\n",
    "scat_codes=scat_codes[['SCat','Detailed Property 1']]"
   ]
  },
  {
   "cell_type": "code",
   "execution_count": 40,
   "id": "f77f145c",
   "metadata": {},
   "outputs": [],
   "source": [
    "#remove duplicates\n",
    "scat_codes.drop_duplicates('SCat', inplace = True)"
   ]
  },
  {
   "cell_type": "code",
   "execution_count": 41,
   "id": "2978f2e9",
   "metadata": {},
   "outputs": [],
   "source": [
    "# now match this with voa matched\n",
    "voa_matched_final=pd.merge(voa_matched_final,scat_codes,how='left',left_on='SCAT_code',right_on='SCat')"
   ]
  },
  {
   "cell_type": "code",
   "execution_count": 43,
   "id": "006203bf",
   "metadata": {},
   "outputs": [],
   "source": [
    "#rename column\n",
    "voa_matched_final = voa_matched_final.rename(columns={'Detailed Property 1': 'dp1'})"
   ]
  },
  {
   "cell_type": "code",
   "execution_count": 64,
   "id": "ccbfd775",
   "metadata": {},
   "outputs": [
    {
     "data": {
      "text/plain": [
       "array(['Shops', 'Warehouses & stores',\n",
       "       'Other educational, training and cultural', 'Medical facilities',\n",
       "       'Offices', 'Local government offices', 'Pubs & wine bars',\n",
       "       'Restaurants & cafes', 'Garages & petrol stations',\n",
       "       'Community centres & halls', 'Advertising rights',\n",
       "       'Factories, mills & workshops', 'Universities ',\n",
       "       'Other industrial', 'Private schools & colleges',\n",
       "       'Other commercial', 'Cinemas, theatres etc.', 'Car parks',\n",
       "       'Other properties', 'Other leisure', 'Hotels etc.',\n",
       "       'Hostels & homes', 'Sports centres & stadia',\n",
       "       'Local authority schools & colleges', 'Libraries and museums',\n",
       "       'Bus stations, moorings etc.', 'Police stations & courts'],\n",
       "      dtype=object)"
      ]
     },
     "execution_count": 64,
     "metadata": {},
     "output_type": "execute_result"
    }
   ],
   "source": [
    "voa_matched_final['Detailed Property 1'].unique()"
   ]
  },
  {
   "cell_type": "code",
   "execution_count": 44,
   "id": "3b34fcc1",
   "metadata": {},
   "outputs": [],
   "source": [
    "#create a dictionary now, mapping out Detailed property description to the building use categories used by the ND-Need methodology - Deatils here:https://assets.publishing.service.gov.uk/government/uploads/system/uploads/attachment_data/file/936797/ND-NEED.pdf#page=39&zoom=100,57,94\n",
    "\n",
    "use_mapping = {'Shops': 'Shops', \n",
    "               'Warehouses & stores': 'Warehouses',\n",
    "               'Other educational, training and cultural': 'Education',\n",
    "               'Medical facilities': 'Health',\n",
    "                'Offices': 'Offices',\n",
    "               'Local government offices': 'Offices',\n",
    "               'Pubs & wine bars': 'Hospitality',\n",
    "               'Restaurants & cafes':'Hospitality',\n",
    "               'Garages & petrol stations':'Other',\n",
    "               'Community centres & halls':'Arts, Community and Leisure',\n",
    "                'Advertising rights': 'Other',\n",
    "               'Factories, mills & workshops':'Factories',\n",
    "               'Universities':'Education',\n",
    "               'Other industrial':'Other',\n",
    "               'Private schools & colleges':'Education',\n",
    "               'Other commercial':'Shops',\n",
    "               'Cinemas, theatres etc.':'Arts, Community and Leisure',\n",
    "               'Car parks':'Other',\n",
    "               'Other properties':'Other',\n",
    "               'Other leisure':'Arts, Community and Leisure',\n",
    "               'Hotels etc.':'Hospitality',\n",
    "               'Hostels & homes':'Hospitality',\n",
    "               'Sports centres & stadia':'Arts, Community and Leisure',\n",
    "               'Local authority schools & colleges':'Education',\n",
    "               'Libraries and museums':'Arts, Community and Leisure',\n",
    "               'Bus stations, moorings etc.':'Other',\n",
    "               'Police stations & courts':'Emergency Services'\n",
    "                }\n",
    "\n",
    "\n",
    "voa_matched_final['building_use'] = voa_matched_final.dp1.map(use_mapping)"
   ]
  },
  {
   "cell_type": "code",
   "execution_count": 45,
   "id": "7e13875d",
   "metadata": {},
   "outputs": [],
   "source": [
    "#finally drop any duplicate VOA records\n",
    "voa_matched_final.drop_duplicates('ref', inplace = True)"
   ]
  },
  {
   "cell_type": "code",
   "execution_count": 46,
   "id": "67e52814",
   "metadata": {},
   "outputs": [],
   "source": [
    "# drop columns that aren't relevant\n",
    "voa_matched_final=voa_matched_final.drop(columns=['sets',\n",
    "      'UPRN_address',\n",
    "      'VOA_address',\n",
    "      'coefficient',\n",
    "      'coefficient2',\n",
    "      'length',\n",
    "      'SCat'])"
   ]
  },
  {
   "cell_type": "code",
   "execution_count": 47,
   "id": "918553ca",
   "metadata": {},
   "outputs": [],
   "source": [
    "#write as geojson\n",
    "voa_matched_final.to_file(\"Data/BuildingData/buildings_VOA.geojson\", driver='GeoJSON')\n"
   ]
  }
 ],
 "metadata": {
  "kernelspec": {
   "display_name": "dissertation",
   "language": "python",
   "name": "dissertation"
  },
  "language_info": {
   "codemirror_mode": {
    "name": "ipython",
    "version": 3
   },
   "file_extension": ".py",
   "mimetype": "text/x-python",
   "name": "python",
   "nbconvert_exporter": "python",
   "pygments_lexer": "ipython3",
   "version": "3.7.9"
  }
 },
 "nbformat": 4,
 "nbformat_minor": 5
}
