{
 "cells": [
  {
   "cell_type": "markdown",
   "id": "abf1354b",
   "metadata": {},
   "source": [
    "## EPC Data Cleaning for Model 2 \n",
    "\n",
    "This notebook outlines the steps taken to process and clean the EPC records needed for Model 2 in predicting domestic gas and electricity use. "
   ]
  },
  {
   "cell_type": "code",
   "execution_count": 1,
   "id": "ee7c2bc9",
   "metadata": {},
   "outputs": [],
   "source": [
    "import pandas as pd\n",
    "import glob"
   ]
  },
  {
   "cell_type": "markdown",
   "id": "67cbe8c3",
   "metadata": {},
   "source": [
    "### Reading EPC data\n",
    "The model construction uses all EPC records for properties in London. This is public data available to download from here: https://epc.opendatacommunities.org/"
   ]
  },
  {
   "cell_type": "code",
   "execution_count": 20,
   "id": "0b7d9a35",
   "metadata": {},
   "outputs": [],
   "source": [
    "#As the EPC records are supplied in read the EPC files in separate files for each local authority, this code reads all csv files in the folder and merges them into a single document\n",
    "path = \"./Data/EnergyData/certificates\" \n",
    "all_files = glob.glob(path + \"/*.csv\")\n",
    "\n",
    "li = []\n",
    "\n",
    "for filename in all_files:\n",
    "    df = pd.read_csv(filename,  index_col=None, header=0)\n",
    "    li.append(df)\n",
    "\n",
    "EPC = pd.concat(li, axis=0, ignore_index=True)"
   ]
  },
  {
   "cell_type": "code",
   "execution_count": 12,
   "id": "9e2f06ca",
   "metadata": {},
   "outputs": [
    {
     "data": {
      "text/plain": [
       "Index(['LMK_KEY', 'ADDRESS1', 'ADDRESS2', 'ADDRESS3', 'POSTCODE',\n",
       "       'BUILDING_REFERENCE_NUMBER', 'CURRENT_ENERGY_RATING',\n",
       "       'POTENTIAL_ENERGY_RATING', 'CURRENT_ENERGY_EFFICIENCY',\n",
       "       'POTENTIAL_ENERGY_EFFICIENCY', 'PROPERTY_TYPE', 'BUILT_FORM',\n",
       "       'INSPECTION_DATE', 'LOCAL_AUTHORITY', 'CONSTITUENCY', 'COUNTY',\n",
       "       'LODGEMENT_DATE', 'TRANSACTION_TYPE', 'ENVIRONMENT_IMPACT_CURRENT',\n",
       "       'ENVIRONMENT_IMPACT_POTENTIAL', 'ENERGY_CONSUMPTION_CURRENT',\n",
       "       'ENERGY_CONSUMPTION_POTENTIAL', 'CO2_EMISSIONS_CURRENT',\n",
       "       'CO2_EMISS_CURR_PER_FLOOR_AREA', 'CO2_EMISSIONS_POTENTIAL',\n",
       "       'LIGHTING_COST_CURRENT', 'LIGHTING_COST_POTENTIAL',\n",
       "       'HEATING_COST_CURRENT', 'HEATING_COST_POTENTIAL',\n",
       "       'HOT_WATER_COST_CURRENT', 'HOT_WATER_COST_POTENTIAL',\n",
       "       'TOTAL_FLOOR_AREA', 'ENERGY_TARIFF', 'MAINS_GAS_FLAG', 'FLOOR_LEVEL',\n",
       "       'FLAT_TOP_STOREY', 'FLAT_STOREY_COUNT', 'MAIN_HEATING_CONTROLS',\n",
       "       'MULTI_GLAZE_PROPORTION', 'GLAZED_TYPE', 'GLAZED_AREA',\n",
       "       'EXTENSION_COUNT', 'NUMBER_HABITABLE_ROOMS', 'NUMBER_HEATED_ROOMS',\n",
       "       'LOW_ENERGY_LIGHTING', 'NUMBER_OPEN_FIREPLACES', 'HOTWATER_DESCRIPTION',\n",
       "       'HOT_WATER_ENERGY_EFF', 'HOT_WATER_ENV_EFF', 'FLOOR_DESCRIPTION',\n",
       "       'FLOOR_ENERGY_EFF', 'FLOOR_ENV_EFF', 'WINDOWS_DESCRIPTION',\n",
       "       'WINDOWS_ENERGY_EFF', 'WINDOWS_ENV_EFF', 'WALLS_DESCRIPTION',\n",
       "       'WALLS_ENERGY_EFF', 'WALLS_ENV_EFF', 'SECONDHEAT_DESCRIPTION',\n",
       "       'SHEATING_ENERGY_EFF', 'SHEATING_ENV_EFF', 'ROOF_DESCRIPTION',\n",
       "       'ROOF_ENERGY_EFF', 'ROOF_ENV_EFF', 'MAINHEAT_DESCRIPTION',\n",
       "       'MAINHEAT_ENERGY_EFF', 'MAINHEAT_ENV_EFF', 'MAINHEATCONT_DESCRIPTION',\n",
       "       'MAINHEATC_ENERGY_EFF', 'MAINHEATC_ENV_EFF', 'LIGHTING_DESCRIPTION',\n",
       "       'LIGHTING_ENERGY_EFF', 'LIGHTING_ENV_EFF', 'MAIN_FUEL',\n",
       "       'WIND_TURBINE_COUNT', 'HEAT_LOSS_CORRIDOR', 'UNHEATED_CORRIDOR_LENGTH',\n",
       "       'FLOOR_HEIGHT', 'PHOTO_SUPPLY', 'SOLAR_WATER_HEATING_FLAG',\n",
       "       'MECHANICAL_VENTILATION', 'ADDRESS', 'LOCAL_AUTHORITY_LABEL',\n",
       "       'CONSTITUENCY_LABEL', 'POSTTOWN', 'CONSTRUCTION_AGE_BAND',\n",
       "       'LODGEMENT_DATETIME', 'TENURE', 'FIXED_LIGHTING_OUTLETS_COUNT',\n",
       "       'LOW_ENERGY_FIXED_LIGHT_COUNT'],\n",
       "      dtype='object')"
      ]
     },
     "execution_count": 12,
     "metadata": {},
     "output_type": "execute_result"
    }
   ],
   "source": [
    "#Have a look at what information is included in the record\n",
    "EPC.columns"
   ]
  },
  {
   "cell_type": "code",
   "execution_count": 23,
   "id": "cc957cf7",
   "metadata": {},
   "outputs": [],
   "source": [
    "#drop columns we don't want\n",
    "EPC=EPC.drop(columns=['POSTTOWN',\n",
    "       'LODGEMENT_DATETIME', 'TENURE', 'FIXED_LIGHTING_OUTLETS_COUNT',\n",
    "       'LOW_ENERGY_FIXED_LIGHT_COUNT'])"
   ]
  },
  {
   "cell_type": "code",
   "execution_count": 14,
   "id": "d5c3fa14",
   "metadata": {},
   "outputs": [],
   "source": [
    "#define a function which renames column headers of the EPC record\n",
    "def rename_epcdom(df):\n",
    "    # rename column headers\n",
    "    d = {'old': df.columns}\n",
    "    df_dict = pd.DataFrame(data=d)\n",
    "    df_dict.set_index('old', inplace=True)\n",
    "\n",
    "    df_dict['new']=[\n",
    "            'key',\n",
    "            'add1',\n",
    "            'add2',\n",
    "            'add3',\n",
    "            'pcode',\n",
    "            'bref',\n",
    "            'curr_enr',\n",
    "            'poten_enr',\n",
    "            'curr_eff',\n",
    "            'poten_eff',\n",
    "            'prop_type',\n",
    "            'builtform',\n",
    "            'insp_date',\n",
    "            'localauth_code',\n",
    "            'constit_code',\n",
    "            'county',\n",
    "            'lodge_date',\n",
    "            'transact_type',\n",
    "            'curr_envirr',\n",
    "            'poten_envirr',\n",
    "            'curr_encons',\n",
    "            'poten_encons',\n",
    "            'curr_co2',\n",
    "            'curr_co2perarea',\n",
    "            'poten_co2',\n",
    "            'curr_light',\n",
    "            'poten_light',\n",
    "            'curr_heatcost',\n",
    "            'poten_heatcost',\n",
    "            'curr_hotwtr',\n",
    "            'poten_hotwtr',\n",
    "            'tfa',\n",
    "            'tariff',\n",
    "            'mainsgas',\n",
    "            'flvl',\n",
    "            'flattop',\n",
    "            'flattop_cnt',\n",
    "            'mainheatcontrol',\n",
    "            'glaze_percent',\n",
    "            'glaze_type',\n",
    "            'glaze_area',\n",
    "            'nextension',\n",
    "            'nrooms',\n",
    "            'nheatedrooms',\n",
    "            'led_percent',\n",
    "            'nfireplace',\n",
    "            'hotwtr',\n",
    "            'hotwtr_eff',\n",
    "            'hotwtr_enveff',\n",
    "            'floor',\n",
    "            'floor_eff',\n",
    "            'floor_enveff',\n",
    "            'window',\n",
    "            'window_eff',\n",
    "            'window_enveff',\n",
    "            'wall',\n",
    "            'wall_eff',\n",
    "            'wall_enveff',\n",
    "            'heat2',\n",
    "            'heat2_eff',\n",
    "            'heat2_enveff',\n",
    "            'roof',\n",
    "            'roof_eff',\n",
    "            'roof_enveff',\n",
    "            'heat',\n",
    "            'heat_eff',\n",
    "            'heat_enveff',\n",
    "            'control',\n",
    "            'control_eff',\n",
    "            'control_enveff',\n",
    "            'light',\n",
    "            'light_eff',\n",
    "            'light_enveff',\n",
    "            'mainfuel',\n",
    "            'windt',\n",
    "            'corridor',\n",
    "            'unhcorridor',\n",
    "            'fheight',\n",
    "            'pv',\n",
    "            'solarwtr',\n",
    "            'mechvent',\n",
    "            'addfull',\n",
    "            'localauth',\n",
    "            'constit',\n",
    "            'constructage'\n",
    "                        ]\n",
    "\n",
    "    # convert dataframe to dictionary\n",
    "    col_dict = df_dict['new'].to_dict()\n",
    "    df.rename(columns = col_dict, inplace=True)\n",
    "    \n",
    "    return df, df_dict\n",
    "\n",
    "def changetypes(df, df_dict):\n",
    "    # reducing dataframe size by changing column types\n",
    "    # change to category\n",
    "    cat = [6, 10, 11, 17, 32, 33, 34, 35, 39, 40, 47, 48, 50,51, 53,54, 56,57, 59,60, 62,63, 65,66, 68,69, 71,72, 75, 79, 80]\n",
    "    for i in range(len(cat)):\n",
    "        tempcol = df_dict.new[cat[i]]\n",
    "        df[tempcol] = df[tempcol].astype('category')\n",
    "\n",
    "    # change to float32\n",
    "    floatlist = [22, 23, 24, 25, 26, 27, 28, 29, 30, 31, 76, 77]\n",
    "    for i in range(len(floatlist)):\n",
    "        tempcol = df_dict.new[floatlist[i]]\n",
    "        df[tempcol] = df[tempcol].astype('float32')\n",
    "\n",
    "    # change to int32\n",
    "    intlist = [8, 18, 19, 20, 21]\n",
    "    for i in range(len(intlist)):\n",
    "        tempcol = df_dict.new[intlist[i]]\n",
    "        df[tempcol] = df[tempcol].astype('int32')\n",
    "\n",
    "    # change from floating to int32\n",
    "    f2int = [36, 38, 41, 42, 43, 44, 45, 74, 78] \n",
    "\n",
    "    # cannot convert float to int if there are missing values, so first convert NaN to -1\n",
    "    for i in range(len(f2int)):\n",
    "        tempcol = df_dict.new[f2int[i]]\n",
    "        df[tempcol].fillna(-1, inplace=True)\n",
    "        df[tempcol] = df[tempcol].astype('int32')\n",
    "    return df\n"
   ]
  },
  {
   "cell_type": "code",
   "execution_count": 51,
   "id": "149cae3c",
   "metadata": {},
   "outputs": [
    {
     "name": "stdout",
     "output_type": "stream",
     "text": [
      "1141767576\n"
     ]
    }
   ],
   "source": [
    "# rename column headers using function defined above\n",
    "df, df_dict = rename_epcdom(EPC)  \n",
    "print(df.memory_usage(index=True).sum())\n",
    "\n",
    "# reduce dataframe size by changing types of columns using function defined above\n",
    "df = changetypes(df, df_dict)"
   ]
  },
  {
   "cell_type": "code",
   "execution_count": 46,
   "id": "155849c8",
   "metadata": {},
   "outputs": [
    {
     "data": {
      "text/plain": [
       "(3180384, 85)"
      ]
     },
     "execution_count": 46,
     "metadata": {},
     "output_type": "execute_result"
    }
   ],
   "source": [
    "df.shape"
   ]
  },
  {
   "cell_type": "code",
   "execution_count": 52,
   "id": "0de00ff2",
   "metadata": {},
   "outputs": [],
   "source": [
    "# keep only entries of the latest inspection date by converting inspection date column to datetime format and dropping duplicate entries based on building reference and address, and keeping only last ascending date entry \n",
    "df['insp_date']= pd.to_datetime(df['insp_date'], format='%Y-%m-%d')\n",
    "df=df.sort_values(by='insp_date').groupby('bref').tail(1)"
   ]
  },
  {
   "cell_type": "code",
   "execution_count": 56,
   "id": "bc9e0125",
   "metadata": {},
   "outputs": [
    {
     "data": {
      "text/plain": [
       "(2549316, 85)"
      ]
     },
     "execution_count": 56,
     "metadata": {},
     "output_type": "execute_result"
    }
   ],
   "source": [
    "df.shape"
   ]
  },
  {
   "cell_type": "code",
   "execution_count": 57,
   "id": "02dbf57a",
   "metadata": {},
   "outputs": [],
   "source": [
    "# map EPC band\n",
    "epc_dict = {'A': 1, 'B': 2, 'C': 3, 'D': 4, 'E': 5, 'F': 6, 'G': 7}\n",
    "df['epc_band'] = df.curr_enr.map(epc_dict)\n",
    "# drop invalid epc entries => drop\n",
    "df = df[df.epc_band.notnull()]"
   ]
  },
  {
   "cell_type": "code",
   "execution_count": 58,
   "id": "d49fee47",
   "metadata": {},
   "outputs": [],
   "source": [
    "# map nrooms=-1 to nroom based on floor area bands similar to NEED\n",
    "import numpy as np\n",
    "# first drop tfa == 0\n",
    "df = df[~(df.tfa == 0)]\n",
    "\n",
    "# create area bins and convert to nrooms for entries of room number with -1\n",
    "areabins = np.arange(0, 5000, 50).tolist()\n",
    "arealabels = range(len(areabins)-1)\n",
    "\n",
    "df['nroomtfa'] = pd.cut(df.tfa, areabins, labels=arealabels)\n",
    "df['nroom'] = np.where((df.nrooms == -1), df.nroomtfa, df.nrooms)"
   ]
  },
  {
   "cell_type": "code",
   "execution_count": 59,
   "id": "80a322ce",
   "metadata": {},
   "outputs": [],
   "source": [
    "df['constructage'].unique()\n",
    "#create new column of simplified age bands and remove the ones with no data\n",
    "\n",
    "age_mapping = {'England and Wales: before 1900': 0, 'England and Wales: 1900-1929': 1, 'England and Wales: 1930-1949': 2, 'England and Wales: 1950-1966': 3,\n",
    "                'England and Wales: 1967-1975': 4,'England and Wales: 1976-1982': 5,'England and Wales: 1983-1990': 6,'England and Wales: 1991-1995': 7,'England and Wales: 1996-2002': 8,'England and Wales: 2003-2006': 0,'England and Wales: 2003-2006': 9,'England and Wales: 2007-2011':10,'England and Wales: 2007 onwards':10,'2007':10,'England and Wales: 2012 onwards':11,'2014':11,'2015':11,'2016':11,'2017':11,'2018':11,'2019':11,'2020':11,'2021':11}\n",
    "\n",
    "\n",
    "df['age'] = df.constructage.map(age_mapping)\n",
    "#drop rows where age is NaN\n",
    "df = df[df['age'].notna()]"
   ]
  },
  {
   "cell_type": "code",
   "execution_count": 60,
   "id": "b56a54b8",
   "metadata": {},
   "outputs": [],
   "source": [
    "# convert property type and form to exposed sides \n",
    "\n",
    "# create new column for number of exposed sides based on property type and form\n",
    "prop_mapping = {'House': 0, 'Flat': -2, 'Bungalow': 0.5, 'Maisonette': -2,\n",
    "                'Park home': 0}\n",
    "built_mapping = {'Detached': 0, 'Semi-Detached': -1,\n",
    "                 'End-Terrace': -1, 'Mid-Terrace': -2,\n",
    "                 'Enclosed Mid-Terrace': -2.5, 'Enclosed End-Terrace': -1.5,\n",
    "                 'NO DATA!': 0}\n",
    "\n",
    "df['propmap'] = df.prop_type.map(prop_mapping)\n",
    "df['builtmap'] = df.builtform.map(built_mapping)\n",
    "df['exposedsides'] = 6 + df.propmap + df.builtmap\n",
    "\n",
    "df['type'] = df.prop_type.str.lower()\n",
    "df['form'] = df.builtform.str.lower()"
   ]
  },
  {
   "cell_type": "code",
   "execution_count": 61,
   "id": "70fa9876",
   "metadata": {},
   "outputs": [
    {
     "name": "stderr",
     "output_type": "stream",
     "text": [
      "C:\\Users\\signe\\anaconda3\\envs\\dissertation\\lib\\site-packages\\IPython\\core\\interactiveshell.py:3170: DtypeWarning: Columns (13) have mixed types.Specify dtype option on import or set low_memory=False.\n",
      "  interactivity=interactivity, compiler=compiler, result=result)\n"
     ]
    }
   ],
   "source": [
    "#map postcodes and LSOAs - this code reads a csv with postocodes and corresponding LSOAs obtained from: https://geoportal.statistics.gov.uk/datasets/06938ffe68de49de98709b0c2ea7c21a/about\n",
    "dflsoa = pd.read_csv(\"Data/GeoData/postcodes_lsoa.csv\")"
   ]
  },
  {
   "cell_type": "code",
   "execution_count": 62,
   "id": "2f4932b4",
   "metadata": {},
   "outputs": [],
   "source": [
    "#produce dictionary to match postcodes in EPC record with LSOA\n",
    "lsoa_dict = pd.Series(dflsoa.lsoa11nm.values, index=dflsoa.pcds).to_dict()"
   ]
  },
  {
   "cell_type": "code",
   "execution_count": 63,
   "id": "b7682be1",
   "metadata": {},
   "outputs": [],
   "source": [
    "#Map corresponding LSOA to each postcode in EPC record\n",
    "df['lsoa'] = df.pcode.map(lsoa_dict)\n",
    "#drop ones that didn't match\n",
    "df = df[df.lsoa.notnull()]"
   ]
  },
  {
   "cell_type": "code",
   "execution_count": 64,
   "id": "eea295f1",
   "metadata": {},
   "outputs": [],
   "source": [
    "#now we also want to add IMD to the corresponding LSOA. Data obtained from here: https://assets.publishing.service.gov.uk/government/uploads/system/uploads/attachment_data/file/845345/File_7_-_All_IoD2019_Scores__Ranks__Deciles_and_Population_Denominators_3.csv/preview\n",
    "\n",
    "dfimd = pd.read_csv(\"Data/GeoData/imd_lsoa.csv\")"
   ]
  },
  {
   "cell_type": "code",
   "execution_count": 65,
   "id": "10eb5c49",
   "metadata": {},
   "outputs": [],
   "source": [
    "#rename columns and create dictionary\n",
    "dfimd.columns = ['lsoacd', 'lsoa', 'lacd', 'la', 'imdrank', 'imd']\n",
    "imd_dict = pd.Series(dfimd.imd.values, index=dfimd.lsoa).to_dict()"
   ]
  },
  {
   "cell_type": "code",
   "execution_count": 66,
   "id": "1d2c614e",
   "metadata": {},
   "outputs": [],
   "source": [
    "#map dictionary to epc dataframe\n",
    "df['imd'] = df.lsoa.map(imd_dict)"
   ]
  },
  {
   "cell_type": "code",
   "execution_count": 67,
   "id": "d827eecd",
   "metadata": {},
   "outputs": [],
   "source": [
    "#define columns to keep in model\n",
    "keep_cols = ['bref',\n",
    "             'epc_band',\n",
    "             'pcode',\n",
    "             'lsoa',\n",
    "             'imd',\n",
    "             'type',\n",
    "             'form',\n",
    "             'exposedsides',\n",
    "             'tfa',\n",
    "             'nroom',\n",
    "             'nrooms',\n",
    "            'age',\n",
    "                          ]\n",
    "\n",
    "df = df[keep_cols]"
   ]
  },
  {
   "cell_type": "code",
   "execution_count": 69,
   "id": "6051b011",
   "metadata": {},
   "outputs": [],
   "source": [
    "#write csv to be used further for modelling in R\n",
    "df.to_csv('Data/EnergyData/cleaned_epc.csv')"
   ]
  }
 ],
 "metadata": {
  "kernelspec": {
   "display_name": "dissertation",
   "language": "python",
   "name": "dissertation"
  },
  "language_info": {
   "codemirror_mode": {
    "name": "ipython",
    "version": 3
   },
   "file_extension": ".py",
   "mimetype": "text/x-python",
   "name": "python",
   "nbconvert_exporter": "python",
   "pygments_lexer": "ipython3",
   "version": "3.7.9"
  }
 },
 "nbformat": 4,
 "nbformat_minor": 5
}
