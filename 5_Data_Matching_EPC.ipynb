{
 "cells": [
  {
   "cell_type": "markdown",
   "id": "68235bce",
   "metadata": {},
   "source": [
    "## Data Matching - EPC\n",
    "\n",
    "This notebook carries out the data matching process necessary to geo-reference EPC data with building polygons. Refer to Section 3.5 of the Dissertation document to review the methodology carried out below. "
   ]
  },
  {
   "cell_type": "code",
   "execution_count": 1,
   "id": "0b52f22a",
   "metadata": {},
   "outputs": [],
   "source": [
    "import geopandas as gpd\n",
    "import pandas as pd\n",
    "import numpy as np\n",
    "import glob\n",
    "import matplotlib \n",
    "%matplotlib inline"
   ]
  },
  {
   "cell_type": "code",
   "execution_count": 2,
   "id": "c359424c",
   "metadata": {},
   "outputs": [],
   "source": [
    "# Read geojson file of buildings - this file was previously created in the Initial_cleaning.R document\n",
    "buildings= gpd.read_file(\"Data/BuildingData/FinalBuildings.geojson\")\n"
   ]
  },
  {
   "cell_type": "code",
   "execution_count": 7,
   "id": "5cffc972",
   "metadata": {},
   "outputs": [
    {
     "data": {
      "text/plain": [
       "Index(['fid', 'featurecode', 'version', 'versiondate', 'theme',\n",
       "       'calculatedareavalue', 'changedate', 'reasonforchange',\n",
       "       'descriptivegroup', 'descriptiveterm', 'make', 'physicallevel',\n",
       "       'physicalpresence', 'poly_broken', 'NUMPOINTS', 'geometry'],\n",
       "      dtype='object')"
      ]
     },
     "execution_count": 7,
     "metadata": {},
     "output_type": "execute_result"
    }
   ],
   "source": [
    "buildings.columns"
   ]
  },
  {
   "cell_type": "code",
   "execution_count": 8,
   "id": "b5a05dc1",
   "metadata": {},
   "outputs": [],
   "source": [
    "#Remove unwanted columns\n",
    "#colums to be deleted: \n",
    "delete=[\"poly_broken\",\"physicalpresence\",\"physicallevel\",\"make\",\"descriptiveterm\",\"descriptivegroup\",\"reasonforchange\",\"changedate\",\"versiondate\",\"theme\"]\n",
    "\n",
    "#drop those columns\n",
    "buildings.drop(delete, axis=1, inplace=True)"
   ]
  },
  {
   "cell_type": "markdown",
   "id": "124f3468",
   "metadata": {},
   "source": [
    "### !!! Reading AddressBase \n",
    "\n",
    "The data matching process carried out for this work relies on AddressBase data, a product supplied by the Ordnance Survey under a special license. For this reason, this data is not shared with the other data on GitHub. A license for AddressBase can be requested from the Ordnance Survey (https://www.ordnancesurvey.co.uk/business-government/products/addressbase). For this work, AddressBase Core was used. "
   ]
  },
  {
   "cell_type": "code",
   "execution_count": 10,
   "id": "cdb5ff49",
   "metadata": {},
   "outputs": [],
   "source": [
    "#read the AddressBase files and merge into a single dataframe\n",
    "path = \"./Data/AddressBase\" # use your path\n",
    "all_files = glob.glob(path + \"/*.csv\")\n",
    "\n",
    "li = []\n",
    "\n",
    "for filename in all_files:\n",
    "    df = pd.read_csv(filename,  index_col=None, header=0)\n",
    "    li.append(df)\n",
    "\n",
    "\n",
    "AddressBase = pd.concat(li, axis=0, ignore_index=True)"
   ]
  },
  {
   "cell_type": "code",
   "execution_count": 11,
   "id": "2179a1fd",
   "metadata": {},
   "outputs": [],
   "source": [
    "#Let's try to join UPRN and buildings by TOID\n",
    "\n",
    "AddressBaseSimple=AddressBase[['TOID','UPRN','SINGLE_LINE_ADDRESS']]\n",
    "\n",
    "BuildingsUPRN=pd.merge(buildings, AddressBaseSimple, how='left', left_on='fid',right_on='TOID')\n",
    "\n",
    "#Remove NA values\n",
    "BuildingsUPRN.dropna(inplace=True)"
   ]
  },
  {
   "cell_type": "code",
   "execution_count": 12,
   "id": "045f91cb",
   "metadata": {},
   "outputs": [],
   "source": [
    "#Now try to flatten database and get UPRNS into a list\n",
    "BuildingsUPRN.head(10)\n",
    "\n",
    "#convert UPRN to string to match\n",
    "BuildingsUPRN[\"UPRN\"] = BuildingsUPRN[\"UPRN\"].astype(np.int64)\n",
    "BuildingsUPRN[\"UPRN\"] = BuildingsUPRN[\"UPRN\"].astype(str)"
   ]
  },
  {
   "cell_type": "code",
   "execution_count": 13,
   "id": "39fece4e",
   "metadata": {},
   "outputs": [
    {
     "name": "stdout",
     "output_type": "stream",
     "text": [
      "fid                      object\n",
      "featurecode               int64\n",
      "version                   int64\n",
      "calculatedareavalue      object\n",
      "NUMPOINTS               float64\n",
      "geometry               geometry\n",
      "TOID                     object\n",
      "UPRN                     object\n",
      "SINGLE_LINE_ADDRESS      object\n",
      "dtype: object\n"
     ]
    }
   ],
   "source": [
    "print(BuildingsUPRN.dtypes)"
   ]
  },
  {
   "cell_type": "code",
   "execution_count": 14,
   "id": "5c0611ea",
   "metadata": {},
   "outputs": [],
   "source": [
    "#creates a list of UPRNs for each fid\n",
    "fidUPRN = BuildingsUPRN.groupby(['fid'])['UPRN'].apply(' , '.join).reset_index()"
   ]
  },
  {
   "cell_type": "code",
   "execution_count": 15,
   "id": "3457b536",
   "metadata": {},
   "outputs": [],
   "source": [
    "#get count of individual properties in each unique building\n",
    "countofproperties=BuildingsUPRN.groupby(['fid'])['UPRN'].agg(['count'])"
   ]
  },
  {
   "cell_type": "code",
   "execution_count": 16,
   "id": "06fc1a9b",
   "metadata": {},
   "outputs": [],
   "source": [
    "#save as csv\n",
    "countofproperties.to_csv('Data/BuildingData/countofproperties.csv')"
   ]
  },
  {
   "cell_type": "markdown",
   "id": "e210031a",
   "metadata": {},
   "source": [
    "### Matching EPC dataset"
   ]
  },
  {
   "cell_type": "code",
   "execution_count": 18,
   "id": "43629099",
   "metadata": {},
   "outputs": [],
   "source": [
    "#Simplify AddressBase with what we want for address matching\n",
    "AddressBase2=AddressBase[[\"UPRN\",\"SINGLE_LINE_ADDRESS\",\"SUB_BUILDING\",\"BUILDING_NAME\",\"BUILDING_NUMBER\",\"STREET_NAME\",\"POSTCODE\",\"TOID\"]]\n"
   ]
  },
  {
   "cell_type": "code",
   "execution_count": 23,
   "id": "236f0d6b",
   "metadata": {},
   "outputs": [
    {
     "data": {
      "text/plain": [
       "(126400, 90)"
      ]
     },
     "execution_count": 23,
     "metadata": {},
     "output_type": "execute_result"
    }
   ],
   "source": [
    "#!!! read full epc dataset for westminster - obtained from https://epc.opendatacommunities.org/\n",
    "\n",
    "EPC= pd.read_csv('Data/EnergyData/certificates/certificates_westminster.csv')\n",
    "\n"
   ]
  },
  {
   "cell_type": "code",
   "execution_count": 24,
   "id": "cdffc6dc",
   "metadata": {},
   "outputs": [],
   "source": [
    "#convert datatype\n",
    "EPC[\"NUMBER_HABITABLE_ROOMS\"] = EPC['NUMBER_HABITABLE_ROOMS'].astype('float64')"
   ]
  },
  {
   "cell_type": "code",
   "execution_count": 25,
   "id": "46067d02",
   "metadata": {
    "scrolled": true
   },
   "outputs": [
    {
     "data": {
      "text/html": [
       "<div>\n",
       "<style scoped>\n",
       "    .dataframe tbody tr th:only-of-type {\n",
       "        vertical-align: middle;\n",
       "    }\n",
       "\n",
       "    .dataframe tbody tr th {\n",
       "        vertical-align: top;\n",
       "    }\n",
       "\n",
       "    .dataframe thead th {\n",
       "        text-align: right;\n",
       "    }\n",
       "</style>\n",
       "<table border=\"1\" class=\"dataframe\">\n",
       "  <thead>\n",
       "    <tr style=\"text-align: right;\">\n",
       "      <th></th>\n",
       "      <th>LMK_KEY</th>\n",
       "      <th>ADDRESS1</th>\n",
       "      <th>ADDRESS2</th>\n",
       "      <th>ADDRESS3</th>\n",
       "      <th>POSTCODE</th>\n",
       "      <th>BUILDING_REFERENCE_NUMBER</th>\n",
       "      <th>CURRENT_ENERGY_RATING</th>\n",
       "      <th>POTENTIAL_ENERGY_RATING</th>\n",
       "      <th>CURRENT_ENERGY_EFFICIENCY</th>\n",
       "      <th>POTENTIAL_ENERGY_EFFICIENCY</th>\n",
       "      <th>...</th>\n",
       "      <th>MECHANICAL_VENTILATION</th>\n",
       "      <th>ADDRESS</th>\n",
       "      <th>LOCAL_AUTHORITY_LABEL</th>\n",
       "      <th>CONSTITUENCY_LABEL</th>\n",
       "      <th>POSTTOWN</th>\n",
       "      <th>CONSTRUCTION_AGE_BAND</th>\n",
       "      <th>LODGEMENT_DATETIME</th>\n",
       "      <th>TENURE</th>\n",
       "      <th>FIXED_LIGHTING_OUTLETS_COUNT</th>\n",
       "      <th>LOW_ENERGY_FIXED_LIGHT_COUNT</th>\n",
       "    </tr>\n",
       "  </thead>\n",
       "  <tbody>\n",
       "    <tr>\n",
       "      <th>0</th>\n",
       "      <td>1414941369242016021822181047269808</td>\n",
       "      <td>Flat 23 Chalfont Court</td>\n",
       "      <td>Baker Street</td>\n",
       "      <td></td>\n",
       "      <td>NW1 5RS</td>\n",
       "      <td>7273662478</td>\n",
       "      <td>D</td>\n",
       "      <td>C</td>\n",
       "      <td>60</td>\n",
       "      <td>78</td>\n",
       "      <td>...</td>\n",
       "      <td>natural</td>\n",
       "      <td>Flat 23 Chalfont Court, Baker Street</td>\n",
       "      <td>Westminster</td>\n",
       "      <td>Westminster North</td>\n",
       "      <td>LONDON</td>\n",
       "      <td>England and Wales: before 1900</td>\n",
       "      <td>2016-02-18 22:18:10</td>\n",
       "      <td>owner-occupied</td>\n",
       "      <td>NaN</td>\n",
       "      <td>NaN</td>\n",
       "    </tr>\n",
       "    <tr>\n",
       "      <th>1</th>\n",
       "      <td>442870599502017040108551778237198</td>\n",
       "      <td>Clifton Cottage</td>\n",
       "      <td>101 Clifton Hill</td>\n",
       "      <td></td>\n",
       "      <td>NW8 0JR</td>\n",
       "      <td>1549892768</td>\n",
       "      <td>D</td>\n",
       "      <td>A</td>\n",
       "      <td>57</td>\n",
       "      <td>96</td>\n",
       "      <td>...</td>\n",
       "      <td>natural</td>\n",
       "      <td>Clifton Cottage, 101 Clifton Hill</td>\n",
       "      <td>Westminster</td>\n",
       "      <td>Westminster North</td>\n",
       "      <td>LONDON</td>\n",
       "      <td>England and Wales: 2007 onwards</td>\n",
       "      <td>2017-04-01 08:55:17</td>\n",
       "      <td>rental (private)</td>\n",
       "      <td>NaN</td>\n",
       "      <td>NaN</td>\n",
       "    </tr>\n",
       "    <tr>\n",
       "      <th>2</th>\n",
       "      <td>1367006411532015092309384201278507</td>\n",
       "      <td>Flat 3</td>\n",
       "      <td>1-3 Brewer Street</td>\n",
       "      <td></td>\n",
       "      <td>W1F 0RD</td>\n",
       "      <td>1781529378</td>\n",
       "      <td>C</td>\n",
       "      <td>B</td>\n",
       "      <td>74</td>\n",
       "      <td>81</td>\n",
       "      <td>...</td>\n",
       "      <td>natural</td>\n",
       "      <td>Flat 3, 1-3 Brewer Street</td>\n",
       "      <td>Westminster</td>\n",
       "      <td>Cities of London and Westminster</td>\n",
       "      <td>LONDON</td>\n",
       "      <td>England and Wales: 1900-1929</td>\n",
       "      <td>2015-09-23 09:38:42</td>\n",
       "      <td>rental (private)</td>\n",
       "      <td>NaN</td>\n",
       "      <td>NaN</td>\n",
       "    </tr>\n",
       "    <tr>\n",
       "      <th>3</th>\n",
       "      <td>168235820962008101710111102168878</td>\n",
       "      <td>Flat 26 Caroline House</td>\n",
       "      <td>Bayswater Road</td>\n",
       "      <td></td>\n",
       "      <td>W2 4RQ</td>\n",
       "      <td>7037272568</td>\n",
       "      <td>D</td>\n",
       "      <td>D</td>\n",
       "      <td>57</td>\n",
       "      <td>59</td>\n",
       "      <td>...</td>\n",
       "      <td>natural</td>\n",
       "      <td>Flat 26 Caroline House, Bayswater Road</td>\n",
       "      <td>Westminster</td>\n",
       "      <td>Westminster North</td>\n",
       "      <td>LONDON</td>\n",
       "      <td>England and Wales: 1950-1966</td>\n",
       "      <td>2008-10-17 10:11:11</td>\n",
       "      <td>rental (private)</td>\n",
       "      <td>NaN</td>\n",
       "      <td>NaN</td>\n",
       "    </tr>\n",
       "    <tr>\n",
       "      <th>4</th>\n",
       "      <td>42239819922017061900423424838073</td>\n",
       "      <td>Flat 32</td>\n",
       "      <td>13 Craven Hill</td>\n",
       "      <td></td>\n",
       "      <td>W2 3EN</td>\n",
       "      <td>7221144568</td>\n",
       "      <td>F</td>\n",
       "      <td>E</td>\n",
       "      <td>30</td>\n",
       "      <td>42</td>\n",
       "      <td>...</td>\n",
       "      <td>natural</td>\n",
       "      <td>Flat 32, 13 Craven Hill</td>\n",
       "      <td>Westminster</td>\n",
       "      <td>Westminster North</td>\n",
       "      <td>LONDON</td>\n",
       "      <td>England and Wales: 1900-1929</td>\n",
       "      <td>2017-06-19 00:42:34</td>\n",
       "      <td>rental (private)</td>\n",
       "      <td>NaN</td>\n",
       "      <td>NaN</td>\n",
       "    </tr>\n",
       "  </tbody>\n",
       "</table>\n",
       "<p>5 rows × 90 columns</p>\n",
       "</div>"
      ],
      "text/plain": [
       "                              LMK_KEY                ADDRESS1  \\\n",
       "0  1414941369242016021822181047269808  Flat 23 Chalfont Court   \n",
       "1   442870599502017040108551778237198         Clifton Cottage   \n",
       "2  1367006411532015092309384201278507                  Flat 3   \n",
       "3   168235820962008101710111102168878  Flat 26 Caroline House   \n",
       "4    42239819922017061900423424838073                 Flat 32   \n",
       "\n",
       "            ADDRESS2 ADDRESS3 POSTCODE  BUILDING_REFERENCE_NUMBER  \\\n",
       "0       Baker Street           NW1 5RS                 7273662478   \n",
       "1   101 Clifton Hill           NW8 0JR                 1549892768   \n",
       "2  1-3 Brewer Street           W1F 0RD                 1781529378   \n",
       "3     Bayswater Road            W2 4RQ                 7037272568   \n",
       "4     13 Craven Hill            W2 3EN                 7221144568   \n",
       "\n",
       "  CURRENT_ENERGY_RATING POTENTIAL_ENERGY_RATING  CURRENT_ENERGY_EFFICIENCY  \\\n",
       "0                     D                       C                         60   \n",
       "1                     D                       A                         57   \n",
       "2                     C                       B                         74   \n",
       "3                     D                       D                         57   \n",
       "4                     F                       E                         30   \n",
       "\n",
       "   POTENTIAL_ENERGY_EFFICIENCY  ... MECHANICAL_VENTILATION  \\\n",
       "0                           78  ...                natural   \n",
       "1                           96  ...                natural   \n",
       "2                           81  ...                natural   \n",
       "3                           59  ...                natural   \n",
       "4                           42  ...                natural   \n",
       "\n",
       "                                  ADDRESS LOCAL_AUTHORITY_LABEL  \\\n",
       "0    Flat 23 Chalfont Court, Baker Street           Westminster   \n",
       "1       Clifton Cottage, 101 Clifton Hill           Westminster   \n",
       "2               Flat 3, 1-3 Brewer Street           Westminster   \n",
       "3  Flat 26 Caroline House, Bayswater Road           Westminster   \n",
       "4                 Flat 32, 13 Craven Hill           Westminster   \n",
       "\n",
       "                 CONSTITUENCY_LABEL POSTTOWN            CONSTRUCTION_AGE_BAND  \\\n",
       "0                 Westminster North   LONDON   England and Wales: before 1900   \n",
       "1                 Westminster North   LONDON  England and Wales: 2007 onwards   \n",
       "2  Cities of London and Westminster   LONDON     England and Wales: 1900-1929   \n",
       "3                 Westminster North   LONDON     England and Wales: 1950-1966   \n",
       "4                 Westminster North   LONDON     England and Wales: 1900-1929   \n",
       "\n",
       "    LODGEMENT_DATETIME            TENURE  FIXED_LIGHTING_OUTLETS_COUNT  \\\n",
       "0  2016-02-18 22:18:10    owner-occupied                           NaN   \n",
       "1  2017-04-01 08:55:17  rental (private)                           NaN   \n",
       "2  2015-09-23 09:38:42  rental (private)                           NaN   \n",
       "3  2008-10-17 10:11:11  rental (private)                           NaN   \n",
       "4  2017-06-19 00:42:34  rental (private)                           NaN   \n",
       "\n",
       "   LOW_ENERGY_FIXED_LIGHT_COUNT  \n",
       "0                           NaN  \n",
       "1                           NaN  \n",
       "2                           NaN  \n",
       "3                           NaN  \n",
       "4                           NaN  \n",
       "\n",
       "[5 rows x 90 columns]"
      ]
     },
     "execution_count": 25,
     "metadata": {},
     "output_type": "execute_result"
    }
   ],
   "source": [
    "import numpy as np\n",
    "\n",
    "#clean up string data\n",
    "EPC_ob = EPC.select_dtypes(['object'])\n",
    "EPC[EPC_ob.columns] = EPC[EPC_ob.columns].replace(np.nan, '', regex=True)\n",
    "\n",
    "EPC.head()"
   ]
  },
  {
   "cell_type": "code",
   "execution_count": 26,
   "id": "90676d4e",
   "metadata": {},
   "outputs": [],
   "source": [
    "#we need to deal with properties where more than one certificate exists - we want the latest property\n",
    "EPC=EPC.sort_values('INSPECTION_DATE').groupby('BUILDING_REFERENCE_NUMBER').tail(1)"
   ]
  },
  {
   "cell_type": "code",
   "execution_count": 27,
   "id": "c5f801dc",
   "metadata": {},
   "outputs": [
    {
     "name": "stderr",
     "output_type": "stream",
     "text": [
      "C:\\Users\\signe\\anaconda3\\envs\\dissertation\\lib\\site-packages\\ipykernel_launcher.py:2: SettingWithCopyWarning: \n",
      "A value is trying to be set on a copy of a slice from a DataFrame.\n",
      "Try using .loc[row_indexer,col_indexer] = value instead\n",
      "\n",
      "See the caveats in the documentation: https://pandas.pydata.org/pandas-docs/stable/user_guide/indexing.html#returning-a-view-versus-a-copy\n",
      "  \n"
     ]
    }
   ],
   "source": [
    "#replace commas in AddressBase with spaces\n",
    "AddressBase2[\"SINGLE_LINE_ADDRESS\"]= AddressBase2[\"SINGLE_LINE_ADDRESS\"].str.replace(\",\", \"\")"
   ]
  },
  {
   "cell_type": "code",
   "execution_count": 28,
   "id": "f7712b5a",
   "metadata": {},
   "outputs": [],
   "source": [
    "#convert EPC addresses into string and remove any extra spaces on either side of string\n",
    "EPC['ADDRESS1'] = EPC['ADDRESS1'].astype(str).str.upper()\n",
    "EPC['ADDRESS2'] = EPC['ADDRESS2'].astype(str).str.upper()\n",
    "EPC['ADDRESS3'] = EPC['ADDRESS3'].astype(str).str.upper()\n",
    "\n",
    "EPC_ob = EPC.select_dtypes(['object'])\n",
    "EPC[EPC_ob.columns] = EPC_ob.apply(lambda x: x.str.strip())"
   ]
  },
  {
   "cell_type": "code",
   "execution_count": 29,
   "id": "5b6bb403",
   "metadata": {},
   "outputs": [],
   "source": [
    "#join EPC addresses\n",
    "EPC['LINE_ADDRESS'] = EPC[['ADDRESS1', 'ADDRESS2', 'ADDRESS3']].agg(' '.join, axis=1)\n",
    "EPC['LINE_ADDRESS']=EPC['LINE_ADDRESS'].str.replace(',','')\n",
    "EPC['LINE_ADDRESS']=EPC['LINE_ADDRESS'].str.strip()"
   ]
  },
  {
   "cell_type": "code",
   "execution_count": 30,
   "id": "c0c90d1e",
   "metadata": {},
   "outputs": [],
   "source": [
    "#Now we want to match the two datasets by postcode \n",
    "EPC_UPRN= pd.merge(EPC,AddressBase2,how='inner', on='POSTCODE')"
   ]
  },
  {
   "cell_type": "code",
   "execution_count": 42,
   "id": "58a88f74",
   "metadata": {},
   "outputs": [],
   "source": [
    "#replace double spaces\n",
    "EPC_UPRN['SINGLE_LINE_ADDRESS'] = EPC_UPRN['SINGLE_LINE_ADDRESS'].str.replace('\\s+', ' ', regex=True)"
   ]
  },
  {
   "cell_type": "code",
   "execution_count": 31,
   "id": "6bb80cff",
   "metadata": {},
   "outputs": [],
   "source": [
    "#drop address base 2 here to free up space\n",
    "del(AddressBase2)\n",
    "del(AddressBase)"
   ]
  },
  {
   "cell_type": "code",
   "execution_count": 33,
   "id": "e18bd36e",
   "metadata": {},
   "outputs": [],
   "source": [
    "#split addresses into separate words\n",
    "EPC_UPRN[\"EPC_address\"]=EPC_UPRN[\"LINE_ADDRESS\"].str.split(\" \")\n",
    "EPC_UPRN[\"UPRN_address\"]=EPC_UPRN[\"SINGLE_LINE_ADDRESS\"].str.split(\" \")"
   ]
  },
  {
   "cell_type": "code",
   "execution_count": 34,
   "id": "23a3435c",
   "metadata": {},
   "outputs": [],
   "source": [
    "#remove the last 3 elements in the single line address\n",
    "EPC_UPRN['UPRN_address'] = EPC_UPRN['UPRN_address'].str[:-3]"
   ]
  },
  {
   "cell_type": "code",
   "execution_count": 35,
   "id": "70320ced",
   "metadata": {},
   "outputs": [],
   "source": [
    "#find the words the two addresses have in common\n",
    "row=EPC_UPRN.shape[0]\n",
    "sets=[]\n",
    "\n",
    "for i in range (0,row):\n",
    "    test=set(EPC_UPRN['EPC_address'].iloc[i])&set(EPC_UPRN['UPRN_address'].iloc[i])\n",
    "    sets.append(test)"
   ]
  },
  {
   "cell_type": "code",
   "execution_count": 36,
   "id": "4238239d",
   "metadata": {
    "scrolled": true
   },
   "outputs": [],
   "source": [
    "EPC_UPRN[\"sets\"]=sets\n"
   ]
  },
  {
   "cell_type": "code",
   "execution_count": 37,
   "id": "43c41678",
   "metadata": {},
   "outputs": [],
   "source": [
    "#calculate similarity coefficient\n",
    "EPC_UPRN['coefficient']=EPC_UPRN['sets'].str.len()/EPC_UPRN['EPC_address'].str.len()"
   ]
  },
  {
   "cell_type": "code",
   "execution_count": 38,
   "id": "9cae9764",
   "metadata": {},
   "outputs": [],
   "source": [
    "#Group by and get the maximum coefficient for each EPC certificate\n",
    "Group= EPC_UPRN.groupby(['BUILDING_REFERENCE_NUMBER'], sort=False)['coefficient'].max()\n",
    "\n",
    "#Make a dataframe\n",
    "Group=Group.to_frame().reset_index()"
   ]
  },
  {
   "cell_type": "code",
   "execution_count": 39,
   "id": "6c5f65bb",
   "metadata": {},
   "outputs": [],
   "source": [
    "\n",
    "idx = EPC_UPRN.groupby(['BUILDING_REFERENCE_NUMBER'])['coefficient'].transform(max) == EPC_UPRN['coefficient']\n",
    "\n",
    "Group=EPC_UPRN[idx]"
   ]
  },
  {
   "cell_type": "code",
   "execution_count": 40,
   "id": "675f8f34",
   "metadata": {},
   "outputs": [],
   "source": [
    "#drop duplicates\n",
    "Final_match=Group.drop_duplicates(subset=['BUILDING_REFERENCE_NUMBER'], keep='last')"
   ]
  },
  {
   "cell_type": "code",
   "execution_count": 41,
   "id": "f2e1e66b",
   "metadata": {},
   "outputs": [],
   "source": [
    "#filter out ones that clearly don't have a match\n",
    "Final_match = Final_match[Final_match['coefficient'] >= 0.5]"
   ]
  },
  {
   "cell_type": "code",
   "execution_count": 42,
   "id": "462b2c5b",
   "metadata": {},
   "outputs": [
    {
     "data": {
      "text/plain": [
       "(95864, 102)"
      ]
     },
     "execution_count": 42,
     "metadata": {},
     "output_type": "execute_result"
    }
   ],
   "source": [
    "Final_match.shape"
   ]
  },
  {
   "cell_type": "code",
   "execution_count": 43,
   "id": "5ada084d",
   "metadata": {},
   "outputs": [],
   "source": [
    "#extract UPRN and Building Reference number\n",
    "matched_EPC_UPRN= Final_match[['BUILDING_REFERENCE_NUMBER','UPRN']]"
   ]
  },
  {
   "cell_type": "code",
   "execution_count": 44,
   "id": "f4d0c842",
   "metadata": {},
   "outputs": [
    {
     "name": "stderr",
     "output_type": "stream",
     "text": [
      "C:\\Users\\signe\\anaconda3\\envs\\dissertation\\lib\\site-packages\\ipykernel_launcher.py:1: SettingWithCopyWarning: \n",
      "A value is trying to be set on a copy of a slice from a DataFrame.\n",
      "Try using .loc[row_indexer,col_indexer] = value instead\n",
      "\n",
      "See the caveats in the documentation: https://pandas.pydata.org/pandas-docs/stable/user_guide/indexing.html#returning-a-view-versus-a-copy\n",
      "  \"\"\"Entry point for launching an IPython kernel.\n"
     ]
    }
   ],
   "source": [
    "matched_EPC_UPRN[\"UPRN\"] = matched_EPC_UPRN[\"UPRN\"].astype(str)"
   ]
  },
  {
   "cell_type": "code",
   "execution_count": 45,
   "id": "2583ed5d",
   "metadata": {},
   "outputs": [],
   "source": [
    "#save as csv\n",
    "matched_EPC_UPRN.to_csv('Data/BuildingData/EPC_UPRN.csv')"
   ]
  },
  {
   "cell_type": "code",
   "execution_count": 46,
   "id": "9fbc4af4",
   "metadata": {},
   "outputs": [],
   "source": [
    "#Now match this to the UPRN building polygons\n",
    "Buildings_matched=pd.merge(BuildingsUPRN,matched_EPC_UPRN,how='inner', on='UPRN')"
   ]
  },
  {
   "cell_type": "code",
   "execution_count": 47,
   "id": "c3e3f8b3",
   "metadata": {},
   "outputs": [],
   "source": [
    "#merge with original certificate data\n",
    "Buildings_matched_final=pd.merge(Buildings_matched,EPC,how='inner', on='BUILDING_REFERENCE_NUMBER')"
   ]
  },
  {
   "cell_type": "code",
   "execution_count": 48,
   "id": "1fc08c92",
   "metadata": {},
   "outputs": [],
   "source": [
    "#export as a final geojson to be used for modelling\n",
    "Buildings_matched_final.to_file(\"Data/BuildingData/buildings_EPC.geojson\", driver='GeoJSON')"
   ]
  }
 ],
 "metadata": {
  "kernelspec": {
   "display_name": "dissertation",
   "language": "python",
   "name": "dissertation"
  },
  "language_info": {
   "codemirror_mode": {
    "name": "ipython",
    "version": 3
   },
   "file_extension": ".py",
   "mimetype": "text/x-python",
   "name": "python",
   "nbconvert_exporter": "python",
   "pygments_lexer": "ipython3",
   "version": "3.7.9"
  }
 },
 "nbformat": 4,
 "nbformat_minor": 5
}
